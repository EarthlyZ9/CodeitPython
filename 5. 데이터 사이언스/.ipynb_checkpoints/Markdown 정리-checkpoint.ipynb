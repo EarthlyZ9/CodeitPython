{
 "cells": [
  {
   "cell_type": "markdown",
   "metadata": {},
   "source": [
    "# 1단계 제목  \n",
    "## 2단계 제목  \n",
    "### 3단계 제목  \n",
    "#### 4단계 제목  "
   ]
  },
  {
   "cell_type": "markdown",
   "metadata": {},
   "source": [
    "#을 사용하여 단계별 제목 표현"
   ]
  },
  {
   "cell_type": "markdown",
   "metadata": {},
   "source": [
    "1. first  \n",
    "2. second  \n",
    "3. third  "
   ]
  },
  {
   "cell_type": "markdown",
   "metadata": {},
   "source": [
    "* list 1  \n",
    "* list 2  \n",
    "* list 3  "
   ]
  },
  {
   "cell_type": "markdown",
   "metadata": {},
   "source": [
    "줄바꿈은 스페이스 두번한 다음에 엔터~"
   ]
  },
  {
   "cell_type": "markdown",
   "metadata": {},
   "source": [
    "문단 바꿈은 엔터키 두번 누르기~"
   ]
  },
  {
   "cell_type": "markdown",
   "metadata": {},
   "source": [
    "**별표** __언더바__"
   ]
  },
  {
   "cell_type": "markdown",
   "metadata": {},
   "source": [
    "볼드체는 *나 _ 두개"
   ]
  },
  {
   "cell_type": "markdown",
   "metadata": {},
   "source": [
    "*이탈릭체* _이탈릭체_"
   ]
  },
  {
   "cell_type": "markdown",
   "metadata": {},
   "source": [
    "이탈릭체는 *나_한개"
   ]
  },
  {
   "cell_type": "markdown",
   "metadata": {},
   "source": [
    "~~취소선~~"
   ]
  },
  {
   "cell_type": "markdown",
   "metadata": {},
   "source": [
    "취소선은 물결 두개"
   ]
  },
  {
   "cell_type": "markdown",
   "metadata": {},
   "source": [
    "검색은 역시 [네이버](https://www.naver.com)"
   ]
  },
  {
   "cell_type": "markdown",
   "metadata": {},
   "source": [
    "대괄호안에 글쓰고 괄호 안에 주소"
   ]
  },
  {
   "cell_type": "markdown",
   "metadata": {},
   "source": [
    "이미지 넣기: !하고 대괄호(주소)"
   ]
  },
  {
   "cell_type": "markdown",
   "metadata": {},
   "source": [
    "```python\n",
    "print('hello')\n",
    "```"
   ]
  },
  {
   "cell_type": "markdown",
   "metadata": {},
   "source": [
    "코드블록 backtick 이용"
   ]
  },
  {
   "cell_type": "markdown",
   "metadata": {},
   "source": [
    "출력은 `print` 함수지"
   ]
  },
  {
   "cell_type": "markdown",
   "metadata": {},
   "source": [
    "인라인 코드 backtick로"
   ]
  }
 ],
 "metadata": {
  "kernelspec": {
   "display_name": "Python 3",
   "language": "python",
   "name": "python3"
  },
  "language_info": {
   "codemirror_mode": {
    "name": "ipython",
    "version": 3
   },
   "file_extension": ".py",
   "mimetype": "text/x-python",
   "name": "python",
   "nbconvert_exporter": "python",
   "pygments_lexer": "ipython3",
   "version": "3.8.5"
  }
 },
 "nbformat": 4,
 "nbformat_minor": 4
}
