{
 "cells": [
  {
   "cell_type": "markdown",
   "metadata": {},
   "source": [
    "파싱: 문자의 구조를 분석해서 원하는 정보를 얻어내는 것"
   ]
  },
  {
   "cell_type": "code",
   "execution_count": 1,
   "metadata": {},
   "outputs": [],
   "source": [
    "html_code = \"\"\"<!DOCTYPE html>\n",
    "<html>\n",
    "<head>\n",
    "    <title>Sample Website</title>\n",
    "</head>\n",
    "<body>\n",
    "<h2>HTML 연습!</h2>\n",
    "\n",
    "<p>이것은 첫 번째 문단입니다.</p>\n",
    "<p>이것은 두 번째 문단입니다!</p>\n",
    "\n",
    "<ul>\n",
    "    <li>커피</li>\n",
    "    <li>녹차</li>\n",
    "    <li>우유</li>\n",
    "</ul>\n",
    "\n",
    "<img src='https://i.imgur.com/bY0l0PC.jpg' alt=\"coffee\"/>\n",
    "<img src='https://i.imgur.com/fvJLWdV.jpg' alt=\"green-tea\"/>\n",
    "<img src='https://i.imgur.com/rNOIbNt.jpg' alt=\"milk\"/>\n",
    "\n",
    "</body>\n",
    "</html>\"\"\""
   ]
  },
  {
   "cell_type": "code",
   "execution_count": 2,
   "metadata": {},
   "outputs": [],
   "source": [
    "from bs4 import BeautifulSoup"
   ]
  },
  {
   "cell_type": "code",
   "execution_count": 3,
   "metadata": {},
   "outputs": [
    {
     "data": {
      "text/plain": [
       "bs4.BeautifulSoup"
      ]
     },
     "execution_count": 3,
     "metadata": {},
     "output_type": "execute_result"
    }
   ],
   "source": [
    "soup = BeautifulSoup(html_code, 'html.parser')\n",
    "type(soup)"
   ]
  },
  {
   "cell_type": "code",
   "execution_count": 4,
   "metadata": {},
   "outputs": [],
   "source": [
    "li_tags = soup.select('li')"
   ]
  },
  {
   "cell_type": "code",
   "execution_count": 5,
   "metadata": {},
   "outputs": [
    {
     "data": {
      "text/plain": [
       "[<li>커피</li>, <li>녹차</li>, <li>우유</li>]"
      ]
     },
     "execution_count": 5,
     "metadata": {},
     "output_type": "execute_result"
    }
   ],
   "source": [
    "li_tags"
   ]
  },
  {
   "cell_type": "code",
   "execution_count": 6,
   "metadata": {},
   "outputs": [
    {
     "data": {
      "text/plain": [
       "<li>커피</li>"
      ]
     },
     "execution_count": 6,
     "metadata": {},
     "output_type": "execute_result"
    }
   ],
   "source": [
    "li_tags[0]"
   ]
  },
  {
   "cell_type": "code",
   "execution_count": 7,
   "metadata": {},
   "outputs": [
    {
     "data": {
      "text/plain": [
       "'커피'"
      ]
     },
     "execution_count": 7,
     "metadata": {},
     "output_type": "execute_result"
    }
   ],
   "source": [
    "li_tags[0].text"
   ]
  },
  {
   "cell_type": "code",
   "execution_count": 11,
   "metadata": {},
   "outputs": [],
   "source": [
    "beverage_names = []\n",
    "for li in li_tags:\n",
    "    beverage_names.append(li.text)"
   ]
  },
  {
   "cell_type": "code",
   "execution_count": 12,
   "metadata": {},
   "outputs": [
    {
     "data": {
      "text/plain": [
       "['커피', '녹차', '우유']"
      ]
     },
     "execution_count": 12,
     "metadata": {},
     "output_type": "execute_result"
    }
   ],
   "source": [
    "beverage_names"
   ]
  },
  {
   "cell_type": "code",
   "execution_count": 13,
   "metadata": {},
   "outputs": [],
   "source": [
    "html_code2 = \"\"\"<!DOCTYPE html>\n",
    "<html>\n",
    "<head>\n",
    "    <title>Sample Website</title>\n",
    "</head>\n",
    "<body>\n",
    "<h2>HTML 연습!</h2>\n",
    "\n",
    "<p>이것은 첫 번째 문단입니다.</p>\n",
    "<p>이것은 두 번째 문단입니다!</p>\n",
    "\n",
    "<ul>\n",
    "    <li>커피</li>\n",
    "    <li>녹차</li>\n",
    "    <li>우유</li>\n",
    "</ul>\n",
    "\n",
    "<img src='https://i.imgur.com/bY0l0PC.jpg' alt=\"coffee\"/>\n",
    "<img src='https://i.imgur.com/fvJLWdV.jpg' alt=\"green-tea\"/>\n",
    "<img src='https://i.imgur.com/rNOIbNt.jpg' alt=\"milk\"/>\n",
    "\n",
    "</body>\n",
    "</html>\"\"\""
   ]
  },
  {
   "cell_type": "code",
   "execution_count": 14,
   "metadata": {},
   "outputs": [],
   "source": [
    "soup = BeautifulSoup(html_code2, 'html.parser')"
   ]
  },
  {
   "cell_type": "code",
   "execution_count": 15,
   "metadata": {},
   "outputs": [],
   "source": [
    "img_tags = soup.select(\"img\")"
   ]
  },
  {
   "cell_type": "code",
   "execution_count": 16,
   "metadata": {},
   "outputs": [
    {
     "data": {
      "text/plain": [
       "[<img alt=\"coffee\" src=\"https://i.imgur.com/bY0l0PC.jpg\"/>,\n",
       " <img alt=\"green-tea\" src=\"https://i.imgur.com/fvJLWdV.jpg\"/>,\n",
       " <img alt=\"milk\" src=\"https://i.imgur.com/rNOIbNt.jpg\"/>]"
      ]
     },
     "execution_count": 16,
     "metadata": {},
     "output_type": "execute_result"
    }
   ],
   "source": [
    "img_tags"
   ]
  },
  {
   "cell_type": "code",
   "execution_count": 17,
   "metadata": {},
   "outputs": [
    {
     "data": {
      "text/plain": [
       "<img alt=\"coffee\" src=\"https://i.imgur.com/bY0l0PC.jpg\"/>"
      ]
     },
     "execution_count": 17,
     "metadata": {},
     "output_type": "execute_result"
    }
   ],
   "source": [
    "img_tags[0]"
   ]
  },
  {
   "cell_type": "code",
   "execution_count": 18,
   "metadata": {},
   "outputs": [
    {
     "data": {
      "text/plain": [
       "'https://i.imgur.com/bY0l0PC.jpg'"
      ]
     },
     "execution_count": 18,
     "metadata": {},
     "output_type": "execute_result"
    }
   ],
   "source": [
    "img_tags[0]['src']"
   ]
  },
  {
   "cell_type": "code",
   "execution_count": 20,
   "metadata": {},
   "outputs": [],
   "source": [
    "img_scrs = []\n",
    "for img in img_tags:\n",
    "    img_scrs.append(img['src'])"
   ]
  },
  {
   "cell_type": "code",
   "execution_count": 21,
   "metadata": {},
   "outputs": [
    {
     "data": {
      "text/plain": [
       "['https://i.imgur.com/bY0l0PC.jpg',\n",
       " 'https://i.imgur.com/fvJLWdV.jpg',\n",
       " 'https://i.imgur.com/rNOIbNt.jpg']"
      ]
     },
     "execution_count": 21,
     "metadata": {},
     "output_type": "execute_result"
    }
   ],
   "source": [
    "img_scrs"
   ]
  },
  {
   "cell_type": "code",
   "execution_count": null,
   "metadata": {},
   "outputs": [],
   "source": []
  }
 ],
 "metadata": {
  "kernelspec": {
   "display_name": "Python 3",
   "language": "python",
   "name": "python3"
  },
  "language_info": {
   "codemirror_mode": {
    "name": "ipython",
    "version": 3
   },
   "file_extension": ".py",
   "mimetype": "text/x-python",
   "name": "python",
   "nbconvert_exporter": "python",
   "pygments_lexer": "ipython3",
   "version": "3.8.5"
  }
 },
 "nbformat": 4,
 "nbformat_minor": 4
}
