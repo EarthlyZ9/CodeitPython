{
 "cells": [
  {
   "cell_type": "code",
   "execution_count": 1,
   "metadata": {},
   "outputs": [],
   "source": [
    "import time\n",
    "import pandas as pd\n",
    "import requests\n",
    "from bs4 import BeautifulSoup"
   ]
  },
  {
   "cell_type": "code",
   "execution_count": 2,
   "metadata": {},
   "outputs": [],
   "source": [
    "records =[]"
   ]
  },
  {
   "cell_type": "code",
   "execution_count": 3,
   "metadata": {},
   "outputs": [],
   "source": [
    "page_num = 1"
   ]
  },
  {
   "cell_type": "code",
   "execution_count": 4,
   "metadata": {},
   "outputs": [],
   "source": [
    "while True:\n",
    "     # HTML 코드 받아오기\n",
    "    response = requests.get(\"http://www.ssg.com/search.ssg?target=all&query=nintendo&page=\" + str(page_num))\n",
    "\n",
    "    # BeautifulSoup 타입으로 변형하기\n",
    "    soup = BeautifulSoup(response.text, 'html.parser')\n",
    "\n",
    "    # \"prodName\" 클래스가 있을 때만 상품 정보 가져오기\n",
    "    if len(soup.select('.csrch_tip')) == 0:\n",
    "        product_names = soup.select('.cunit_info > div.cunit_md.notranslate > div > a > em.tx_ko')\n",
    "        product_prices = soup.select('.cunit_info > div.cunit_price.notranslate > div.opt_price > em')\n",
    "        product_urls = soup.select('.cunit_prod > div.thmb > a > img')\n",
    "        page_num += 1\n",
    "        time.sleep(3)\n",
    "        \n",
    "        # 상품의 정보를 하나의 레코드로 만들고, 리스트에 순서대로 추가하기\n",
    "        for i in range(len(product_names)):\n",
    "            record = []\n",
    "            record.append(product_names[i].text)\n",
    "            record.append(product_prices[i].text.strip())\n",
    "            record.append(\"https://www.ssg.com\" + product_urls[i].get('src'))\n",
    "            records.append(record)\n",
    "    else: \n",
    "        break"
   ]
  },
  {
   "cell_type": "code",
   "execution_count": 5,
   "metadata": {},
   "outputs": [
    {
     "data": {
      "text/html": [
       "<div>\n",
       "<style scoped>\n",
       "    .dataframe tbody tr th:only-of-type {\n",
       "        vertical-align: middle;\n",
       "    }\n",
       "\n",
       "    .dataframe tbody tr th {\n",
       "        vertical-align: top;\n",
       "    }\n",
       "\n",
       "    .dataframe thead th {\n",
       "        text-align: right;\n",
       "    }\n",
       "</style>\n",
       "<table border=\"1\" class=\"dataframe\">\n",
       "  <thead>\n",
       "    <tr style=\"text-align: right;\">\n",
       "      <th></th>\n",
       "      <th>이름</th>\n",
       "      <th>가격</th>\n",
       "      <th>이미지 주소</th>\n",
       "    </tr>\n",
       "  </thead>\n",
       "  <tbody>\n",
       "    <tr>\n",
       "      <th>0</th>\n",
       "      <td>[배송 최대 10일 소요]★패키지★닌텐도 스위치 본체(HAD,블루레드) + 제노블레...</td>\n",
       "      <td>489,600</td>\n",
       "      <td>https://www.ssg.com//item.ssgcdn.com/23/14/17/...</td>\n",
       "    </tr>\n",
       "    <tr>\n",
       "      <th>1</th>\n",
       "      <td>[배송 최대 10일 소요]★패키지★닌텐도 스위치 본체(HAD,블루레드) + 제노블레...</td>\n",
       "      <td>489,600</td>\n",
       "      <td>https://www.ssg.com//item.ssgcdn.com/92/79/93/...</td>\n",
       "    </tr>\n",
       "    <tr>\n",
       "      <th>2</th>\n",
       "      <td>[닌텐도 스위치] 슈퍼마리오 파티</td>\n",
       "      <td>55,080</td>\n",
       "      <td>https://www.ssg.com//item.ssgcdn.com/10/84/53/...</td>\n",
       "    </tr>\n",
       "    <tr>\n",
       "      <th>3</th>\n",
       "      <td>[닌텐도 스위치] 모여봐요 동물의 숲 (한글화)</td>\n",
       "      <td>64,800</td>\n",
       "      <td>https://www.ssg.com//item.ssgcdn.com/38/45/52/...</td>\n",
       "    </tr>\n",
       "    <tr>\n",
       "      <th>4</th>\n",
       "      <td>닌텐도 스위치 정품 조이콘 세트 4종 당일출고</td>\n",
       "      <td>79,800</td>\n",
       "      <td>https://www.ssg.com//item.ssgcdn.com/46/07/43/...</td>\n",
       "    </tr>\n",
       "  </tbody>\n",
       "</table>\n",
       "</div>"
      ],
      "text/plain": [
       "                                                  이름       가격  \\\n",
       "0  [배송 최대 10일 소요]★패키지★닌텐도 스위치 본체(HAD,블루레드) + 제노블레...  489,600   \n",
       "1  [배송 최대 10일 소요]★패키지★닌텐도 스위치 본체(HAD,블루레드) + 제노블레...  489,600   \n",
       "2                                 [닌텐도 스위치] 슈퍼마리오 파티   55,080   \n",
       "3                         [닌텐도 스위치] 모여봐요 동물의 숲 (한글화)   64,800   \n",
       "4                          닌텐도 스위치 정품 조이콘 세트 4종 당일출고   79,800   \n",
       "\n",
       "                                              이미지 주소  \n",
       "0  https://www.ssg.com//item.ssgcdn.com/23/14/17/...  \n",
       "1  https://www.ssg.com//item.ssgcdn.com/92/79/93/...  \n",
       "2  https://www.ssg.com//item.ssgcdn.com/10/84/53/...  \n",
       "3  https://www.ssg.com//item.ssgcdn.com/38/45/52/...  \n",
       "4  https://www.ssg.com//item.ssgcdn.com/46/07/43/...  "
      ]
     },
     "execution_count": 5,
     "metadata": {},
     "output_type": "execute_result"
    }
   ],
   "source": [
    "df = pd.DataFrame(data=records, columns = [\"이름\",'가격','이미지 주소'])\n",
    "df.head()"
   ]
  },
  {
   "cell_type": "code",
   "execution_count": null,
   "metadata": {},
   "outputs": [],
   "source": []
  }
 ],
 "metadata": {
  "kernelspec": {
   "display_name": "Python 3",
   "language": "python",
   "name": "python3"
  },
  "language_info": {
   "codemirror_mode": {
    "name": "ipython",
    "version": 3
   },
   "file_extension": ".py",
   "mimetype": "text/x-python",
   "name": "python",
   "nbconvert_exporter": "python",
   "pygments_lexer": "ipython3",
   "version": "3.8.5"
  }
 },
 "nbformat": 4,
 "nbformat_minor": 4
}
